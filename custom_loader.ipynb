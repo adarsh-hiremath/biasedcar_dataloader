{
 "cells": [
  {
   "cell_type": "code",
   "execution_count": 15,
   "metadata": {},
   "outputs": [],
   "source": [
    "import os \n",
    "import pickle\n",
    "from PIL import Image\n",
    "from torch.utils.data import Dataset\n",
    "import torch\n",
    "import torch.nn as nn\n",
    "import torchvision.models as models\n",
    "import torchvision.transforms as transforms\n",
    "from torch.utils.data import DataLoader, random_split\n",
    "from sklearn.model_selection import train_test_split\n",
    "from torch import optim\n",
    "import matplotlib.pyplot as plt"
   ]
  },
  {
   "cell_type": "code",
   "execution_count": 16,
   "metadata": {},
   "outputs": [],
   "source": [
    "demo_dataloader = {}"
   ]
  },
  {
   "cell_type": "code",
   "execution_count": 17,
   "metadata": {},
   "outputs": [],
   "source": [
    "class BiasedCarsDataset(Dataset):\n",
    "    def __init__(self, root_dir, split, transform = None):\n",
    "        self.root_dir = root_dir\n",
    "        self.transform = transform \n",
    "\n",
    "        with open (os.path.join(root_dir, 'att_dict_simplified.p'), 'rb') as f: \n",
    "            self.labels = pickle.load(f)\n",
    "        \n",
    "        self.data = []\n",
    "        for key in self.labels:\n",
    "            img_path = os.path.join(root_dir, split, key)            \n",
    "            if os.path.exists(img_path):\n",
    "                self.data.append((img_path, self.labels[key][2]))\n",
    "        demo_dataloader = self.data\n",
    "\n",
    "    def __len__(self): \n",
    "        return len(self.data)\n",
    "        \n",
    "    def __getitem__ (self, idx):\n",
    "        img_path, label = self.data[idx]\n",
    "        img = Image.open(img_path).convert('RGB')\n",
    "        if self.transform is not None: \n",
    "            img = self.transform(img)\n",
    "        return img, label"
   ]
  },
  {
   "cell_type": "code",
   "execution_count": 18,
   "metadata": {},
   "outputs": [],
   "source": [
    "class ResNet(nn.Module):\n",
    "    def __init__(self):\n",
    "        super().__init__()\n",
    "        self.l1 = nn.Linear (196608, 64)\n",
    "        self.l2 = nn.Linear(64, 64)\n",
    "        self.l3 = nn.Linear(64, 10)\n",
    "        self.do = nn.Dropout(0.1)\n",
    "    \n",
    "    def forward(self, x): \n",
    "        h1 = nn.functional.relu(self.l1(x))\n",
    "        h2 = nn.functional.relu(self.l2(h1))\n",
    "        do = self.do(h2 + h1)\n",
    "        logits = self.l3(do)\n",
    "        return logits"
   ]
  },
  {
   "cell_type": "code",
   "execution_count": 19,
   "metadata": {},
   "outputs": [],
   "source": [
    "transform = transforms.Compose([\n",
    "    transforms.Resize(256),\n",
    "    transforms.ToTensor(),\n",
    "    transforms.Normalize((0.485, 0.456, 0.406), (0.229, 0.224, 0.225)),\n",
    "])\n",
    "\n",
    "dataset = BiasedCarsDataset('/Users/ahiremath/Desktop/neuro240_deliverable2/biased_cars_1/', 'train', transform=transform)\n",
    "\n",
    "model = ResNet()\n",
    "loss = nn.CrossEntropyLoss()\n",
    "optimiser = optim.SGD(model.parameters(), lr = 1e-2)"
   ]
  },
  {
   "cell_type": "code",
   "execution_count": 20,
   "metadata": {},
   "outputs": [],
   "source": [
    "val_size = int(len(dataset) * 0.2)\n",
    "\n",
    "train_size = len(dataset) - val_size\n",
    "\n",
    "train, val = random_split(dataset, [train_size, val_size])\n",
    "train_loader = DataLoader(train, batch_size = 32, shuffle = True)\n",
    "val_loader = DataLoader(val, batch_size = 32, shuffle = True)"
   ]
  },
  {
   "cell_type": "code",
   "execution_count": 190,
   "metadata": {},
   "outputs": [
    {
     "name": "stdout",
     "output_type": "stream",
     "text": [
      "Epoch 1 - train loss: 0.806\n",
      "Epoch 1 - validation loss: 0.687\n",
      "\n",
      "Epoch 2 - train loss: 0.199\n",
      "Epoch 2 - validation loss: 0.425\n",
      "\n",
      "Epoch 3 - train loss: 0.105\n",
      "Epoch 3 - validation loss: 0.387\n",
      "\n",
      "Epoch 4 - train loss: 0.089\n",
      "Epoch 4 - validation loss: 0.280\n",
      "\n",
      "Epoch 5 - train loss: 0.069\n",
      "Epoch 5 - validation loss: 0.339\n",
      "\n"
     ]
    }
   ],
   "source": [
    "nb_epochs = 5\n",
    "for epoch in range(nb_epochs):\n",
    "    losses = list()\n",
    "    for batch in train_loader:\n",
    "        x, y = batch\n",
    "        b = x.size(0)\n",
    "        x = x.view(b, -1)\n",
    "\n",
    "        logit = model(x)\n",
    "\n",
    "        J = loss (logit, y)\n",
    "\n",
    "        model.zero_grad()\n",
    "\n",
    "        J.backward()\n",
    "\n",
    "        optimiser.step()\n",
    "\n",
    "        losses.append(J.item())\n",
    "\n",
    "    print (f'Epoch {epoch + 1} - train loss: {torch.tensor(losses).mean():.3f}')\n",
    "    \n",
    "    losses = list()\n",
    "    for batch in val_loader:\n",
    "        x, y = batch\n",
    "        b = x.size(0)\n",
    "        x = x.view(b, -1)\n",
    "\n",
    "        with torch.no_grad():\n",
    "            logit = model(x)\n",
    "\n",
    "        J = loss(logit,y)\n",
    "\n",
    "        losses.append(J.item())\n",
    "\n",
    "    print (f'Epoch {epoch + 1} - validation loss: {torch.tensor(losses).mean():.3f}\\n')"
   ]
  },
  {
   "cell_type": "code",
   "execution_count": 202,
   "metadata": {},
   "outputs": [
    {
     "data": {
      "image/png": "[encoded data removed]",
      "text/plain": [
       "<Figure size 1000x500 with 1 Axes>"
      ]
     },
     "metadata": {},
     "output_type": "display_data"
    }
   ],
   "source": [
    "data = {'1':0.687, '2':0.425, '3':0.387,\n",
    "        '4':0.280, '5':0.339}\n",
    "courses = list(data.keys())\n",
    "values = list(data.values())\n",
    "  \n",
    "fig = plt.figure(figsize = (10, 5))\n",
    " \n",
    "# creating the bar plot\n",
    "plt.bar(courses, values, color ='maroon',\n",
    "        width = 0.4)\n",
    " \n",
    "plt.xlabel(\"Epoch #\")\n",
    "plt.ylabel(\"Model Loss\")\n",
    "plt.title(\"Epoch # vs Model Loss\")\n",
    "plt.show()"
   ]
  },
  {
   "cell_type": "code",
   "execution_count": null,
   "metadata": {},
   "outputs": [],
   "source": []
  }
 ],
 "metadata": {
  "kernelspec": {
   "display_name": "Python 3",
   "language": "python",
   "name": "python3"
  },
  "language_info": {
   "codemirror_mode": {
    "name": "ipython",
    "version": 3
   },
   "file_extension": ".py",
   "mimetype": "text/x-python",
   "name": "python",
   "nbconvert_exporter": "python",
   "pygments_lexer": "ipython3",
   "version": "3.7.2"
  },
  "orig_nbformat": 4,
  "vscode": {
   "interpreter": {
    "hash": "aee8b7b246df8f9039afb4144a1f6fd8d2ca17a180786b69acc140d282b71a49"
   }
  }
 },
 "nbformat": 4,
 "nbformat_minor": 2
}
